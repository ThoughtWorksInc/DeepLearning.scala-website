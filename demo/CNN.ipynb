{
 "cells": [
  {
   "cell_type": "markdown",
   "metadata": {},
   "source": [
    "## Background\n",
    "\n",
    "In this article, we will use [softmax](https://en.wikipedia.org/wiki/Softmax_function) classifier to build a simple image classification neural network with an accuracy of 32%. In a Softmax classifier, binary logic is generalized and regressed to multiple logic. Softmax classifier will output the probability of the corresponding category.\n",
    "\n",
    "We will first define a softmax classifier, then use the training set of [CIFAR10](https://www.cs.toronto.edu/~kriz/cifar.html) to train the neural network, and finally use the test set to verify the accuracy of the neural network.\n",
    "\n",
    "Let’s get started."
   ]
  },
  {
   "cell_type": "markdown",
   "metadata": {},
   "source": [
    "## Import dependencies"
   ]
  },
  {
   "cell_type": "markdown",
   "metadata": {},
   "source": [
    "Like the previous course [GettingStarted](https://thoughtworksinc.github.io/DeepLearning.scala/demo/GettingStarted.html), we need to introduce each class of DeepLearning.scala."
   ]
  },
  {
   "cell_type": "code",
   "execution_count": 1,
   "metadata": {},
   "outputs": [
    {
     "data": {
      "text/html": [
       "\n",
       "      <script type=\"text/javascript\">\n",
       "        require.config({\n",
       "  paths: {\n",
       "    d3: 'https://cdnjs.cloudflare.com/ajax/libs/d3/3.5.17/d3.min',\n",
       "    plotly: 'https://cdn.plot.ly/plotly-1.12.0.min'\n",
       "  },\n",
       "\n",
       "  shim: {\n",
       "    plotly: {\n",
       "      deps: ['d3', 'jquery'],\n",
       "      exports: 'plotly'\n",
       "    }\n",
       "  }\n",
       "});\n",
       "        \n",
       "\n",
       "        require(['plotly'], function(Plotly) {\n",
       "          window.Plotly = Plotly;\n",
       "        });\n",
       "      </script>\n",
       "    "
      ]
     },
     "metadata": {},
     "output_type": "display_data"
    },
    {
     "data": {
      "text/plain": [
       "\u001b[32mimport \u001b[39m\u001b[36m$ivy.$                     \n",
       "\u001b[39m\n",
       "\u001b[32mimport \u001b[39m\u001b[36m$ivy.$                        \n",
       "\u001b[39m\n",
       "\u001b[32mimport \u001b[39m\u001b[36m$ivy.$                                      \n",
       "// import $ivy.`org.nd4j:nd4j-native-platform:0.8.0`\n",
       "\u001b[39m\n",
       "\u001b[32mimport \u001b[39m\u001b[36m$ivy.$                             \n",
       "\u001b[39m\n",
       "\u001b[32mimport \u001b[39m\u001b[36m$ivy.$                               \n",
       "\u001b[39m\n",
       "\u001b[32mimport \u001b[39m\u001b[36m$ivy.$                                                      \n",
       "\u001b[39m\n",
       "\u001b[32mimport \u001b[39m\u001b[36m$ivy.$                                             \n",
       "\u001b[39m\n",
       "\u001b[32mimport \u001b[39m\u001b[36m$ivy.$                                  \n",
       "\u001b[39m\n",
       "\u001b[32mimport \u001b[39m\u001b[36m$plugin.$                                            \n",
       "\n",
       "\u001b[39m\n",
       "\u001b[32mimport \u001b[39m\u001b[36mscala.concurrent.ExecutionContext.Implicits.global\n",
       "\u001b[39m\n",
       "\u001b[32mimport \u001b[39m\u001b[36morg.nd4j.linalg.api.ndarray.INDArray\n",
       "\u001b[39m\n",
       "\u001b[32mimport \u001b[39m\u001b[36morg.nd4j.linalg.factory.Nd4j\n",
       "\u001b[39m\n",
       "\u001b[32mimport \u001b[39m\u001b[36mcom.thoughtworks.deeplearning.DeepLearning\n",
       "\u001b[39m\n",
       "\u001b[32mimport \u001b[39m\u001b[36mcom.thoughtworks.deeplearning.plugins._\n",
       "\u001b[39m\n",
       "\u001b[32mimport \u001b[39m\u001b[36mcom.thoughtworks.feature.Factory\n",
       "\u001b[39m\n",
       "\u001b[32mimport \u001b[39m\u001b[36mplotly._\n",
       "\u001b[39m\n",
       "\u001b[32mimport \u001b[39m\u001b[36mplotly.element._\n",
       "\u001b[39m\n",
       "\u001b[32mimport \u001b[39m\u001b[36mplotly.layout._\n",
       "\u001b[39m\n",
       "\u001b[32mimport \u001b[39m\u001b[36mplotly.JupyterScala._\n",
       "\u001b[39m\n",
       "\u001b[32mimport \u001b[39m\u001b[36mcom.thoughtworks.future._\n",
       "\u001b[39m\n",
       "\u001b[32mimport \u001b[39m\u001b[36mscala.concurrent.Await\n",
       "\u001b[39m\n",
       "\u001b[32mimport \u001b[39m\u001b[36mscala.concurrent.duration.Duration\n",
       "\u001b[39m\n",
       "\u001b[32mimport \u001b[39m\u001b[36mcom.thoughtworks.each.Monadic._\n",
       "\u001b[39m\n",
       "\u001b[32mimport \u001b[39m\u001b[36mscalaz.std.stream._\u001b[39m"
      ]
     },
     "execution_count": 1,
     "metadata": {},
     "output_type": "execute_result"
    }
   ],
   "source": [
    "import $ivy.`org.nd4j::nd4s:0.8.0`\n",
    "import $ivy.`org.nd4j:nd4j-api:0.8.0`\n",
    "import $ivy.`org.nd4j:nd4j-cuda-8.0-platform:0.8.0`\n",
    "// import $ivy.`org.nd4j:nd4j-native-platform:0.8.0`\n",
    "import $ivy.`com.chuusai::shapeless:2.3.2`\n",
    "import $ivy.`org.rauschig:jarchivelib:0.5.0`\n",
    "import $ivy.`com.thoughtworks.deeplearning::plugins-builtins:2.0.1`\n",
    "import $ivy.`org.plotly-scala::plotly-jupyter-scala:0.3.2`\n",
    "import $ivy.`com.thoughtworks.each::each:3.3.1`\n",
    "import $plugin.$ivy.`org.scalamacros:paradise_2.11.11:2.1.0`\n",
    "\n",
    "import scala.concurrent.ExecutionContext.Implicits.global\n",
    "import org.nd4j.linalg.api.ndarray.INDArray\n",
    "import org.nd4j.linalg.factory.Nd4j\n",
    "import com.thoughtworks.deeplearning.DeepLearning\n",
    "import com.thoughtworks.deeplearning.plugins._\n",
    "import com.thoughtworks.feature.Factory\n",
    "import plotly._\n",
    "import plotly.element._\n",
    "import plotly.layout._\n",
    "import plotly.JupyterScala._\n",
    "plotly.JupyterScala.init()\n",
    "\n",
    "import com.thoughtworks.future._\n",
    "import scala.concurrent.Await\n",
    "import scala.concurrent.duration.Duration\n",
    "import com.thoughtworks.each.Monadic._\n",
    "import scalaz.std.stream._"
   ]
  },
  {
   "cell_type": "markdown",
   "metadata": {},
   "source": [
    "To reduce the line numbers outputted by `jupyter-scala` and to make sure that the page output will not be too long, we need to set `pprintConfig`."
   ]
  },
  {
   "cell_type": "code",
   "execution_count": 2,
   "metadata": {
    "collapsed": true
   },
   "outputs": [],
   "source": [
    "pprintConfig() = pprintConfig().copy(height = 2)"
   ]
  },
  {
   "cell_type": "markdown",
   "metadata": {},
   "source": [
    "## Build your own neural network."
   ]
  },
  {
   "cell_type": "markdown",
   "metadata": {},
   "source": [
    "### Set learning rate"
   ]
  },
  {
   "cell_type": "markdown",
   "metadata": {},
   "source": [
    "Learning rate need to be set for the full connection layer. Learning rate visually describes the change rate of `weight`. A too-low learning rate will result in slow decrease of `loss`, which will require longer time for training; A too-high learning rate will result in rapid decrease of `loss` at first while fluctuation around the lowest point afterward."
   ]
  },
  {
   "cell_type": "code",
   "execution_count": 4,
   "metadata": {},
   "outputs": [
    {
     "data": {
      "text/plain": [
       "\u001b[36mINDArrayLearningRatePluginUrl\u001b[39m: \u001b[32mString\u001b[39m = \u001b[32m\"https://gist.githubusercontent.com/TerrorJack/118487016d7973d67feb489449dee156/raw/778bb1b68a664c752b0945111220326731310214/INDArrayLearningRate.sc\"\u001b[39m"
      ]
     },
     "execution_count": 4,
     "metadata": {},
     "output_type": "execute_result"
    }
   ],
   "source": [
    "val INDArrayLearningRatePluginUrl = \"https://gist.githubusercontent.com/TerrorJack/118487016d7973d67feb489449dee156/raw/778bb1b68a664c752b0945111220326731310214/INDArrayLearningRate.sc\"\n",
    "interp.load(scala.io.Source.fromURL(new java.net.URL(INDArrayLearningRatePluginUrl)).mkString)"
   ]
  },
  {
   "cell_type": "code",
   "execution_count": 6,
   "metadata": {
    "collapsed": true
   },
   "outputs": [],
   "source": [
    "interp.load(scala.io.Source.fromURL(new java.net.URL(\"https://gist.github.com/Atry/15b7d9a4c63d95ad3d67e94bf20b4f69/raw/59f7ee4dff0dde3753f560633574265e950edc93/CNN.sc\")).mkString)"
   ]
  },
  {
   "cell_type": "code",
   "execution_count": 8,
   "metadata": {
    "collapsed": true
   },
   "outputs": [],
   "source": [
    "// `interp.load` is a workaround for https://github.com/lihaoyi/Ammonite/issues/649 and https://github.com/scala/bug/issues/10390\n",
    "interp.load(\"\"\"\n",
    "  val hyperparameters = Factory[Builtins with CNNs with INDArrayLearningRate].newInstance(learningRate = 0.1)\n",
    "\"\"\")"
   ]
  },
  {
   "cell_type": "markdown",
   "metadata": {},
   "source": [
    "### Write softmax"
   ]
  },
  {
   "cell_type": "markdown",
   "metadata": {},
   "source": [
    "To use `softmax` classifier (softmax classifier is a neural network combined by `softmax` and a full connection), we first need to write softmax function, formula: ![](https://www.zhihu.com/equation?tex=f_j%28z%29%3D%5Cfrac%7Be%5E%7Bz_j%7D%7D%7B%5Csum_ke%5E%7Bz_k%7D%7D)"
   ]
  },
  {
   "cell_type": "code",
   "execution_count": 9,
   "metadata": {},
   "outputs": [
    {
     "data": {
      "text/plain": [
       "\u001b[32mimport \u001b[39m\u001b[36mhyperparameters.implicits._\u001b[39m"
      ]
     },
     "execution_count": 9,
     "metadata": {},
     "output_type": "execute_result"
    }
   ],
   "source": [
    "import hyperparameters.implicits._"
   ]
  },
  {
   "cell_type": "code",
   "execution_count": 10,
   "metadata": {
    "scrolled": false
   },
   "outputs": [
    {
     "data": {
      "text/plain": [
       "\u001b[32mimport \u001b[39m\u001b[36mhyperparameters.INDArrayLayer\n",
       "\n",
       "\u001b[39m\n",
       "defined \u001b[32mfunction\u001b[39m \u001b[36msoftmax\u001b[39m"
      ]
     },
     "execution_count": 10,
     "metadata": {},
     "output_type": "execute_result"
    }
   ],
   "source": [
    "import hyperparameters.INDArrayLayer\n",
    "\n",
    "def softmax(scores: INDArrayLayer): INDArrayLayer = {\n",
    "  val expScores = hyperparameters.exp(scores)\n",
    "  expScores / expScores.sum(1)\n",
    "}"
   ]
  },
  {
   "cell_type": "code",
   "execution_count": 11,
   "metadata": {},
   "outputs": [
    {
     "data": {
      "text/plain": [
       "\u001b[36mfileHandler\u001b[39m: \u001b[32mjava\u001b[39m.\u001b[32mutil\u001b[39m.\u001b[32mlogging\u001b[39m.\u001b[32mFileHandler\u001b[39m = java.util.logging.FileHandler@72cc6193"
      ]
     },
     "execution_count": 11,
     "metadata": {},
     "output_type": "execute_result"
    }
   ],
   "source": [
    "val fileHandler = new java.util.logging.FileHandler(\"CNN%g.log\")\n",
    "hyperparameters.logger.addHandler(fileHandler)"
   ]
  },
  {
   "cell_type": "markdown",
   "metadata": {},
   "source": [
    "### Compose your  neural network"
   ]
  },
  {
   "cell_type": "markdown",
   "metadata": {},
   "source": [
    "Define a full connection layer and [initialize Weight](https://github.com/ThoughtWorksInc/DeepLearning.scala/wiki/Getting-Started#231--weight-intialization), `Weight` shall be a two-dimension `INDArray` of `NumberOfPixels × NumberOfClasses`. `scores` is the score of each image corresponding to each category, representing the feasible probability of each category corresponding to each image."
   ]
  },
  {
   "cell_type": "code",
   "execution_count": 12,
   "metadata": {},
   "outputs": [
    {
     "data": {
      "text/plain": [
       "\u001b[32mimport \u001b[39m\u001b[36m$ivy.$                                                 \n",
       "\u001b[39m\n",
       "\u001b[32mimport \u001b[39m\u001b[36mcom.thoughtworks.deeplearning.etl.Cifar10\n",
       "\u001b[39m\n",
       "\u001b[32mimport \u001b[39m\u001b[36mcom.thoughtworks.future._\n",
       "\u001b[39m\n",
       "\u001b[36mcifar10\u001b[39m: \u001b[32mcom\u001b[39m.\u001b[32mthoughtworks\u001b[39m.\u001b[32mdeeplearning\u001b[39m.\u001b[32metl\u001b[39m.\u001b[32mCifar10\u001b[39m = \u001b[33mCifar10\u001b[39m(\n",
       "  \u001b[33mVector\u001b[39m(\n",
       "\u001b[33m...\u001b[39m"
      ]
     },
     "execution_count": 12,
     "metadata": {},
     "output_type": "execute_result"
    }
   ],
   "source": [
    "import $ivy.`com.thoughtworks.deeplearning.etl::cifar10:1.1.0`\n",
    "import com.thoughtworks.deeplearning.etl.Cifar10\n",
    "import com.thoughtworks.future._\n",
    "val cifar10 = Cifar10.load().blockingAwait"
   ]
  },
  {
   "cell_type": "code",
   "execution_count": 13,
   "metadata": {
    "scrolled": true
   },
   "outputs": [
    {
     "data": {
      "text/plain": [
       "\u001b[36mNumberOfClasses\u001b[39m: \u001b[32mInt\u001b[39m = \u001b[32m10\u001b[39m\n",
       "\u001b[36mNumberOfPixels\u001b[39m: \u001b[32mInt\u001b[39m = \u001b[32m3072\u001b[39m"
      ]
     },
     "execution_count": 13,
     "metadata": {},
     "output_type": "execute_result"
    }
   ],
   "source": [
    "//10 label of CIFAR10 images(airplane,automobile,bird,cat,deer,dog,frog,horse,ship,truck)\n",
    "val NumberOfClasses: Int = 10\n",
    "val NumberOfPixels: Int = 3072"
   ]
  },
  {
   "cell_type": "code",
   "execution_count": 14,
   "metadata": {},
   "outputs": [
    {
     "data": {
      "text/plain": [
       "\u001b[36mKernelSize\u001b[39m: \u001b[32mInt\u001b[39m = \u001b[32m3\u001b[39m\n",
       "\u001b[36mKernelWidth\u001b[39m: \u001b[32mInt\u001b[39m = \u001b[32m3\u001b[39m\n",
       "\u001b[36mKernelHeight\u001b[39m: \u001b[32mInt\u001b[39m = \u001b[32m3\u001b[39m\n",
       "defined \u001b[32mfunction\u001b[39m \u001b[36mdefaultPixelSize\u001b[39m"
      ]
     },
     "execution_count": 14,
     "metadata": {},
     "output_type": "execute_result"
    }
   ],
   "source": [
    "val KernelSize = 3\n",
    "val KernelWidth = KernelSize\n",
    "val KernelHeight = KernelSize\n",
    "\n",
    "def defaultPixelSize = Cifar10.Width\n"
   ]
  },
  {
   "cell_type": "code",
   "execution_count": 15,
   "metadata": {},
   "outputs": [
    {
     "data": {
      "text/plain": [
       "\u001b[32mimport \u001b[39m\u001b[36mhyperparameters.INDArrayWeight\n",
       "\u001b[39m\n",
       "defined \u001b[32mclass\u001b[39m \u001b[36mCnnLayer\u001b[39m\n",
       "\u001b[36mcnnLayers\u001b[39m: \u001b[32mArray\u001b[39m[\u001b[32mCnnLayer\u001b[39m] = \u001b[33mArray\u001b[39m(\n",
       "  \u001b[33mCnnLayer\u001b[39m(\u001b[32m16\u001b[39m, \u001b[32mtrue\u001b[39m),\n",
       "\u001b[33m...\u001b[39m\n",
       "\u001b[36mlastCnnWidth\u001b[39m: \u001b[32mInt\u001b[39m = \u001b[32m2\u001b[39m\n",
       "\u001b[36moutputPixel\u001b[39m: \u001b[32mInt\u001b[39m = \u001b[32m96\u001b[39m\n",
       "defined \u001b[32mclass\u001b[39m \u001b[36mModel\u001b[39m\n",
       "defined \u001b[32mclass\u001b[39m \u001b[36mCnnLayerParameter\u001b[39m\n",
       "defined \u001b[32mfunction\u001b[39m \u001b[36misExistVersion\u001b[39m"
      ]
     },
     "execution_count": 15,
     "metadata": {},
     "output_type": "execute_result"
    }
   ],
   "source": [
    "import hyperparameters.INDArrayWeight\n",
    "case class CnnLayer(numberOfFilters: Int, hasPooling: Boolean)\n",
    "\n",
    "val cnnLayers: Array[CnnLayer] = Array(\n",
    "    CnnLayer(16, hasPooling = true),\n",
    "    CnnLayer(18, hasPooling = true),\n",
    "    CnnLayer(20, hasPooling = false),\n",
    "    CnnLayer(22, hasPooling = true),\n",
    "    CnnLayer(24, hasPooling = true)\n",
    ")\n",
    "\n",
    "val lastCnnWidth = cnnLayers.foldLeft(defaultPixelSize) { (width, cnnLayerConfigure) =>\n",
    "    if (cnnLayerConfigure.hasPooling) {\n",
    "    assert(width > 1)\n",
    "        width / 2\n",
    "    } else {\n",
    "        width\n",
    "    }\n",
    "}\n",
    "val outputPixel = cnnLayers.last.numberOfFilters * lastCnnWidth * lastCnnWidth\n",
    "\n",
    "final case class Model(cnnLayerParameters: Seq[CnnLayerParameter],\n",
    "                       fullConnectedWeight: INDArrayWeight,\n",
    "                       fullConnectedBias: INDArrayWeight) \n",
    "\n",
    "final case class CnnLayerParameter(weight: INDArrayWeight, bias: INDArrayWeight)\n",
    "\n",
    "def isExistVersion(version: Int): Boolean = {\n",
    "    import ammonite.ops._\n",
    "    val filePath = pwd / \"backup\" / version.toString\n",
    "    exists(filePath)\n",
    "}"
   ]
  },
  {
   "cell_type": "code",
   "execution_count": 16,
   "metadata": {},
   "outputs": [
    {
     "data": {
      "text/plain": [
       "defined \u001b[32mfunction\u001b[39m \u001b[36mwriteWeightsAndBias\u001b[39m"
      ]
     },
     "execution_count": 16,
     "metadata": {},
     "output_type": "execute_result"
    }
   ],
   "source": [
    "def writeWeightsAndBias(version: Int, model: Model): Unit = {\n",
    "    import ammonite.ops._\n",
    "    \n",
    "    def write(outputFilePath: Path, dataOfWeightOrBias: INDArrayWeight): Unit = {\n",
    "        import java.io.FileOutputStream\n",
    "        import java.io.ObjectOutputStream\n",
    "        val outputStream: ObjectOutputStream = new ObjectOutputStream(new FileOutputStream(outputFilePath.toIO))\n",
    "        try {\n",
    "            outputStream.writeObject(dataOfWeightOrBias.data)\n",
    "        } finally {\n",
    "            outputStream.close()\n",
    "        }\n",
    "    }\n",
    "    \n",
    "    val Model(cnnLayerParameters, \n",
    "          fullConnectedWeight,\n",
    "          fullConnectedBias) = model\n",
    "    \n",
    "        \n",
    "    for (CnnLayerParameter(weight, bias) <- cnnLayerParameters; index <- cnnLayerParameters.indices) {\n",
    "        //val CnnLayerParameter(weight, bias) = weightAndBias\n",
    "        \n",
    "        val filePath = pwd / \"backup\" / version.toString\n",
    "        val weightFilePath = filePath / s\"weight$index\"\n",
    "        val biasFilePath = filePath / s\"bais$index\"\n",
    "        write(weightFilePath, weight)\n",
    "        write(biasFilePath, bias)\n",
    "\n",
    "    }\n",
    "    \n",
    "    val fullConnectedIndex = cnnLayers.length\n",
    "    \n",
    "    val fullConnectedfilePath = pwd / \"backup\" / version.toString\n",
    "    val fullConnectedweightFilePath = fullConnectedfilePath / s\"weight$fullConnectedIndex\"\n",
    "    val fullConnectedbiasFilePath = fullConnectedfilePath / s\"bais$fullConnectedIndex\"\n",
    "    \n",
    "    write(fullConnectedweightFilePath, fullConnectedWeight)\n",
    "    write(fullConnectedbiasFilePath, fullConnectedBias)\n",
    "}\n",
    "\n"
   ]
  },
  {
   "cell_type": "code",
   "execution_count": 17,
   "metadata": {},
   "outputs": [
    {
     "data": {
      "text/plain": [
       "defined \u001b[32mfunction\u001b[39m \u001b[36mreadWeightsAndBias\u001b[39m"
      ]
     },
     "execution_count": 17,
     "metadata": {},
     "output_type": "execute_result"
    }
   ],
   "source": [
    "def readWeightsAndBias(version: Int): Model = {\n",
    "    if (isExistVersion(version) == false) {\n",
    "        throw new IllegalArgumentException(s\"The version$version isn't exist!\")\n",
    "    }\n",
    "    \n",
    "    import ammonite.ops._\n",
    "    \n",
    "    def read(inputFilePath: Path): INDArrayWeight = {\n",
    "        import java.io.FileInputStream\n",
    "        import java.io.ObjectInputStream\n",
    "        val inputStream: ObjectInputStream = new ObjectInputStream(new FileInputStream(inputFilePath.toIO))\n",
    "        try {\n",
    "            INDArrayWeight(inputStream.readObject().asInstanceOf[INDArray])\n",
    "        } finally {\n",
    "            inputStream.close()\n",
    "        }\n",
    "    }\n",
    "    \n",
    "    val cnnLayerParameter = for (index <- cnnLayers.indices) yield {\n",
    "        val filePath = pwd / \"backup\" / version.toString\n",
    "        val weightFilePath = filePath / s\"weight$index\"\n",
    "        val biasFilePath = filePath / s\"bais$index\"\n",
    "        val weight = read(weightFilePath)\n",
    "        val bias = read(biasFilePath)\n",
    "        CnnLayerParameter(weight, bias)\n",
    "    }\n",
    "    val fullConnectedIndex = cnnLayers.length\n",
    "    \n",
    "    val fullConnectedfilePath = pwd / \"backup\" / version.toString\n",
    "    val fullConnectedweightFilePath = fullConnectedfilePath / s\"weight$fullConnectedIndex\"\n",
    "    val fullConnectedbiasFilePath = fullConnectedfilePath / s\"bais$fullConnectedIndex\"\n",
    "    \n",
    "    val fullConnectedWeight = read(fullConnectedweightFilePath)\n",
    "    val fullConnectedBias = read(fullConnectedbiasFilePath)\n",
    "    \n",
    "    Model(cnnLayerParameter, fullConnectedWeight, fullConnectedBias)\n",
    "}"
   ]
  },
  {
   "cell_type": "code",
   "execution_count": 18,
   "metadata": {},
   "outputs": [
    {
     "data": {
      "text/plain": [
       "defined \u001b[32mfunction\u001b[39m \u001b[36minitializeWeightAndBias\u001b[39m"
      ]
     },
     "execution_count": 18,
     "metadata": {},
     "output_type": "execute_result"
    }
   ],
   "source": [
    "def initializeWeightAndBias(version: Int): Model = {\n",
    "    import org.nd4s.Implicits._\n",
    "    def NumberOfChannels = 3 // magic Number\n",
    "    def loadWeightAndBias() = {\n",
    "        readWeightsAndBias(version)\n",
    "    }\n",
    "\n",
    "    def randomlyInitializeWeightAndBias() = {\n",
    "        \n",
    "        val cnnLayerParameter = for (i <- cnnLayers.indices) yield {\n",
    "            val inputDepth = if (i == 0) {\n",
    "                NumberOfChannels\n",
    "            } else {\n",
    "                cnnLayers(i - 1).numberOfFilters\n",
    "            }\n",
    "            \n",
    "\n",
    "            val numberOfFilters = cnnLayers(i).numberOfFilters\n",
    "            val weight = INDArrayWeight(\n",
    "                Nd4j.randn(\n",
    "                    Array(numberOfFilters, \n",
    "                    inputDepth, \n",
    "                    KernelWidth, \n",
    "                    KernelHeight)\n",
    "                ) / math.sqrt(inputDepth * KernelWidth * KernelHeight / 2))\n",
    "            \n",
    "            val bias = INDArrayWeight(Nd4j.zeros(numberOfFilters))\n",
    "            \n",
    "            CnnLayerParameter(weight, bias)\n",
    "        }\n",
    "        \n",
    "        val numberOfFilters = cnnLayers.last.numberOfFilters\n",
    "        val fullConnectedWeight = INDArrayWeight(Nd4j.randn(Array(outputPixel, Cifar10.NumberOfClasses)) / math.sqrt(outputPixel / 2))\n",
    "        val fullConnectedBias = INDArrayWeight(Nd4j.zeros(Cifar10.NumberOfClasses))\n",
    "        Model(cnnLayerParameter, fullConnectedWeight, fullConnectedBias)\n",
    "    }\n",
    "    \n",
    "    if (isExistVersion(version)) {\n",
    "        loadWeightAndBias()\n",
    "    } else {\n",
    "        randomlyInitializeWeightAndBias()\n",
    "    }\n",
    "}"
   ]
  },
  {
   "cell_type": "code",
   "execution_count": 19,
   "metadata": {},
   "outputs": [
    {
     "name": "stderr",
     "output_type": "stream",
     "text": [
      "SLF4J: Failed to load class \"org.slf4j.impl.StaticLoggerBinder\".\n",
      "SLF4J: Defaulting to no-operation (NOP) logger implementation\n",
      "SLF4J: See http://www.slf4j.org/codes.html#StaticLoggerBinder for further details.\n"
     ]
    },
    {
     "data": {
      "text/plain": [
       "\u001b[36mcurrentVersion\u001b[39m: \u001b[32mInt\u001b[39m = \u001b[32m0\u001b[39m\n",
       "\u001b[36mmodel\u001b[39m: \u001b[32mModel\u001b[39m = Model(Vector(CnnLayerParameter(Weight[fullName=$sess.cmd17Wrapper.Helper.weight],Weight[fullName=$sess.cmd17Wrapper.Helper.bias]), CnnLayerParameter(Weight[full\u001b[33m...\u001b[39m"
      ]
     },
     "execution_count": 19,
     "metadata": {},
     "output_type": "execute_result"
    }
   ],
   "source": [
    "val currentVersion = 0\n",
    "val model = initializeWeightAndBias(currentVersion)"
   ]
  },
  {
   "cell_type": "code",
   "execution_count": 19,
   "metadata": {},
   "outputs": [],
   "source": [
    "// for (CnnLayerParameter(weight, bias) <- model.cnnLayerParameters) {\n",
    "//     hyperparameters.logger.info(s\"${weight.data.shape.toSeq} ${bias.data.shape.toSeq}\")\n",
    "// }"
   ]
  },
  {
   "cell_type": "code",
   "execution_count": 20,
   "metadata": {
    "scrolled": true
   },
   "outputs": [
    {
     "data": {
      "text/plain": [
       "defined \u001b[32mfunction\u001b[39m \u001b[36mdefaultPixelSize\u001b[39m\n",
       "defined \u001b[32mfunction\u001b[39m \u001b[36mmyNeuralNetwork\u001b[39m"
      ]
     },
     "execution_count": 20,
     "metadata": {},
     "output_type": "execute_result"
    }
   ],
   "source": [
    "\n",
    "\n",
    "def defaultPixelSize = Cifar10.Width\n",
    "def myNeuralNetwork(input: INDArray):  INDArrayLayer = {\n",
    "    import hyperparameters.max\n",
    "    import hyperparameters.maxPool\n",
    "    import hyperparameters.conv2d\n",
    "    \n",
    "    val Model(cnnLayerParameters, fullConnectedWeight, fullConnectedBias) = model\n",
    "    \n",
    "    def loop(i: Int): INDArrayLayer = {\n",
    "        val CnnLayerParameter(weight, bias) = cnnLayerParameters(i)\n",
    "        val cnnLayer = if (i == 0) {\n",
    "            max(conv2d(input, weight, bias, (3, 3), (1, 1), (1, 1)), 0.0)\n",
    "        } else {\n",
    "            max(conv2d(loop(i - 1), weight, bias, (3, 3), (1, 1), (1, 1)), 0.0)\n",
    "        }\n",
    "        if (cnnLayers(i).hasPooling) {\n",
    "            maxPool(cnnLayer, (2, 2))\n",
    "        } else {\n",
    "            cnnLayer\n",
    "        }\n",
    "    }\n",
    "    \n",
    "    val layer5 = loop(4)\n",
    "    \n",
    "    \n",
    "    // ??? Width ?= Height\n",
    "    val layer6 = layer5.reshape(input.shape.head, outputPixel) dot fullConnectedWeight + fullConnectedBias\n",
    "    softmax(layer6)\n",
    "}\n",
    "    \n",
    "    \n",
    "\n",
    "\n",
    "\n",
    "\n",
    "// def myNeuralNetwork(input: INDArray): INDArrayLayer = {\n",
    "//     import hyperparameters.max\n",
    "//     import hyperparameters.maxPool\n",
    "//     import hyperparameters.conv2d\n",
    "//     val layer1 = maxPool(max(conv2d(input.reshape(input.shape()(0), 3, 32, 32), weight1, bias1, (3, 3), (1, 1), (1, 1)), 0.0), (2, 2))\n",
    "//     val layer2 = maxPool(max(conv2d(layer1, weight2, bias2, (3, 3), (1, 1), (1, 1)), 0.0), (2, 2))\n",
    "//     val layer3 = maxPool(max(conv2d(layer2, weight3, bias3, (3, 3), (1, 1), (1, 1)), 0.0), (2, 2))\n",
    "//     val layer4 = maxPool(max(conv2d(layer3, weight4, bias4, (3, 3), (1, 1), (1, 1)), 0.0), (2, 2))\n",
    "//     val layer5 = maxPool(max(conv2d(layer4, weight5, bias5, (3, 3), (1, 1), (1, 1)), 0.0), (2, 2))\n",
    "\n",
    "//     val layer6 = layer5.reshape(input.shape()(0), 24) dot weight6 + bias6\n",
    "//     softmax(layer6)\n",
    "// }"
   ]
  },
  {
   "cell_type": "code",
   "execution_count": null,
   "metadata": {
    "collapsed": true
   },
   "outputs": [],
   "source": []
  },
  {
   "cell_type": "markdown",
   "metadata": {},
   "source": [
    "### Create LossFunction"
   ]
  },
  {
   "cell_type": "markdown",
   "metadata": {},
   "source": [
    "To learn about the prediction result of the neural network, we need to write the loss function `lossFunction`. We use [cross-entropy loss](https://en.wikipedia.org/wiki/Cross_entropy) to make comparison between this result and the actual result before return the score. Formula:\n",
    "![](https://zhihu.com/equation?tex=%5Cdisplaystyle+H%28p%2Cq%29%3D-%5Csum_xp%28x%29+logq%28x%29)"
   ]
  },
  {
   "cell_type": "code",
   "execution_count": 21,
   "metadata": {},
   "outputs": [
    {
     "data": {
      "text/plain": [
       "\u001b[32mimport \u001b[39m\u001b[36mhyperparameters.DoubleLayer\n",
       "\n",
       "\u001b[39m\n",
       "defined \u001b[32mfunction\u001b[39m \u001b[36mlossFunction\u001b[39m"
      ]
     },
     "execution_count": 21,
     "metadata": {},
     "output_type": "execute_result"
    }
   ],
   "source": [
    "import hyperparameters.DoubleLayer\n",
    "\n",
    "def lossFunction(input: INDArray, expectOutput: INDArray): DoubleLayer = {\n",
    "    val probabilities = myNeuralNetwork(input)\n",
    "    -(hyperparameters.log(probabilities) * expectOutput).mean\n",
    "}"
   ]
  },
  {
   "cell_type": "markdown",
   "metadata": {},
   "source": [
    "## Prepare data"
   ]
  },
  {
   "cell_type": "markdown",
   "metadata": {},
   "source": [
    "### Read data"
   ]
  },
  {
   "cell_type": "markdown",
   "metadata": {},
   "source": [
    "To read the images and corresponding label information for test data from CIFAR10 database and process them, we need [`import $file.ReadCIFAR10ToNDArray`](https://github.com/ThoughtWorksInc/DeepLearning.scala-website/blob/master/ipynbs/ReadCIFAR10ToNDArray.sc). This is a script file containing the read and processed CIFAR10 data, provided in this course."
   ]
  },
  {
   "cell_type": "code",
   "execution_count": 21,
   "metadata": {},
   "outputs": [],
   "source": [
    "// import $url.{`https://raw.githubusercontent.com/ThoughtWorksInc/DeepLearning.scala-website/v1.0.0-doc/ipynbs/ReadCIFAR10ToNDArray.sc` => ReadCIFAR10ToNDArray}\n",
    "\n",
    "// val trainNDArray = ReadCIFAR10ToNDArray.readFromResource(\"/cifar-10-batches-bin/data_batch_1.bin\", 1000)\n",
    "\n",
    "// val testNDArray = ReadCIFAR10ToNDArray.readFromResource(\"/cifar-10-batches-bin/test_batch.bin\", 100)\n",
    "\n"
   ]
  },
  {
   "cell_type": "markdown",
   "metadata": {},
   "source": [
    "### Process data"
   ]
  },
  {
   "cell_type": "markdown",
   "metadata": {},
   "source": [
    "Before passing data to the softmax classifier, we first process label data with ([one hot encoding](https://en.wikipedia.org/wiki/One-hot)): transform INDArray of `NumberOfPixels × 1` into INDArray of `NumberOfPixels × NumberOfClasses`. The value of correct classification corresponding to each line is 1, and the values of other columns are 0. The reason for differentiating the training set and test set is to make it clear that whether the network is over trained which leads to [overfitting](https://en.wikipedia.org/wiki/Overfitting). While processing label data, we used [Utils](https://github.com/ThoughtWorksInc/DeepLearning.scala-website/blob/master/ipynbs/Utils.sc), which is also provided in this course."
   ]
  },
  {
   "cell_type": "code",
   "execution_count": 21,
   "metadata": {
    "collapsed": true
   },
   "outputs": [],
   "source": [
    "// val trainData = trainNDArray.head\n",
    "// val testData = testNDArray.head\n",
    "\n",
    "\n",
    "// val trainExpectResult = trainNDArray.tail.head\n",
    "// val testExpectResult = testNDArray.tail.head\n",
    "\n",
    "// import $url.{`https://raw.githubusercontent.com/ThoughtWorksInc/DeepLearning.scala-website/v1.0.0-doc/ipynbs/Utils.sc` => Utils}\n",
    "\n",
    "// val vectorizedTrainExpectResult = Utils.makeVectorized(trainExpectResult, NumberOfClasses)\n",
    "// val vectorizedTestExpectResult = Utils.makeVectorized(testExpectResult, NumberOfClasses)"
   ]
  },
  {
   "cell_type": "markdown",
   "metadata": {},
   "source": [
    "## Train your neural network"
   ]
  },
  {
   "cell_type": "markdown",
   "metadata": {},
   "source": [
    "To observe the training process of the neural network, we need to output `loss`; while training the neural network, the `loss` shall be decreasing."
   ]
  },
  {
   "cell_type": "code",
   "execution_count": 22,
   "metadata": {},
   "outputs": [
    {
     "data": {
      "text/plain": [
       "\u001b[32mimport \u001b[39m\u001b[36mscalaz.std.anyVal._\n",
       "\u001b[39m\n",
       "\u001b[32mimport \u001b[39m\u001b[36mscalaz.syntax.all._\n",
       "\n",
       "\u001b[39m\n",
       "defined \u001b[32mclass\u001b[39m \u001b[36mTrainer\u001b[39m"
      ]
     },
     "execution_count": 22,
     "metadata": {},
     "output_type": "execute_result"
    }
   ],
   "source": [
    "// var lossSeq: IndexedSeq[Double] = IndexedSeq.empty\n",
    "\n",
    "// @monadic[Future]\n",
    "// val trainTask: Future[Unit] = {\n",
    "//   val lossStream = for (_ <- (1 to 2000).toStream) yield {\n",
    "//     val loss = lossFunction(trainData, vectorizedTrainExpectResult).train.each\n",
    "//     kernel.publish.markdown(s\"loss: $loss\")\n",
    "//     loss\n",
    "//   }\n",
    "//   lossSeq = IndexedSeq.concat(lossStream)\n",
    "// }\n",
    "\n",
    "import scalaz.std.anyVal._\n",
    "import scalaz.syntax.all._\n",
    "\n",
    "class Trainer(batchSize: Int, numberOfEpoches: Int = 5) {\n",
    "    @volatile\n",
    "    private var isShuttingDown: Boolean = false\n",
    "\n",
    "    private val lossBuffer = scala.collection.mutable.Buffer.empty[Double]\n",
    "        \n",
    "    def poltLoss(): Unit = Seq(Scatter(lossBuffer.indices, lossBuffer)).plot(title = \"loss by time\")\n",
    "    \n",
    "    def interrupt(): Unit = isShuttingDown = true\n",
    "\n",
    "    def startTrain(): Unit = {\n",
    "\n",
    "        @monadic[Future]\n",
    "        def trainTask: Future[Unit] = {\n",
    "            isShuttingDown = false\n",
    "            var epoch = 0\n",
    "            while (epoch < numberOfEpoches && !isShuttingDown) {\n",
    "                val iterator = cifar10.epoch(batchSize).zipWithIndex\n",
    "                while (iterator.hasNext && !isShuttingDown) {\n",
    "                    val (Cifar10.Batch(labels, batch), i) = iterator.next()\n",
    "                    val loss = lossFunction(batch, labels).train.each\n",
    "                    lossBuffer += loss\n",
    "                    hyperparameters.logger.info(s\"epoch=$epoch iteration=$i batchSize=$batchSize loss=$loss\")\n",
    "                }\n",
    "                epoch += 1\n",
    "            }\n",
    "            hyperparameters.logger.info(\"Done\")\n",
    "        }\n",
    "\n",
    "        trainTask.onComplete { tryUnit: scala.util.Try[Unit] => tryUnit.get }\n",
    "\n",
    "    }\n",
    "}\n",
    "\n",
    "\n"
   ]
  },
  {
   "cell_type": "code",
   "execution_count": 23,
   "metadata": {},
   "outputs": [
    {
     "data": {
      "text/plain": [
       "\u001b[36mtrainBatchSize\u001b[39m: \u001b[32mInt\u001b[39m = \u001b[32m128\u001b[39m\n",
       "\u001b[36mtrainer\u001b[39m: \u001b[32mTrainer\u001b[39m = $sess.cmd21Wrapper$Helper$Trainer@72e6cecf"
      ]
     },
     "execution_count": 23,
     "metadata": {},
     "output_type": "execute_result"
    }
   ],
   "source": [
    "val trainBatchSize = 128\n",
    "\n",
    "val trainer = new Trainer(batchSize = trainBatchSize, numberOfEpoches = 300)\n",
    "trainer.startTrain()"
   ]
  },
  {
   "cell_type": "code",
   "execution_count": null,
   "metadata": {
    "collapsed": true
   },
   "outputs": [],
   "source": [
    "//\n",
    "trainer.interrupt()"
   ]
  },
  {
   "cell_type": "markdown",
   "metadata": {},
   "source": [
    "## Predict  your Neural Network"
   ]
  },
  {
   "cell_type": "markdown",
   "metadata": {},
   "source": [
    "We use the processed test data to verify the prediction result of the neural network and compute the accuracy. The accuracy shall be about 32%."
   ]
  },
  {
   "cell_type": "code",
   "execution_count": null,
   "metadata": {
    "collapsed": true
   },
   "outputs": [],
   "source": [
    "// val predictResult = Await.result(myNeuralNetwork(testData).predict.toScalaFuture, Duration.Inf)\n",
    "\n",
    "// myNeuralNetwork\n",
    "\n",
    "def findMaxItemIndex(iNDArray: INDArray): INDArray = {\n",
    "    Nd4j.argMax(iNDArray, 1)\n",
    "}\n",
    "\n",
    "def getAccuracy(score: INDArray, testExpectLabel: INDArray): Double = {\n",
    "    val scoreIndex = findMaxItemIndex(score)\n",
    "    val numberOfCorrectPrediction = (0 until scoreIndex.shape()(0)).count { row =>\n",
    "        scoreIndex.getDouble(row, 0) == testExpectLabel.getDouble(row, 0)\n",
    "    }\n",
    "    (numberOfCorrectPrediction / score.shape()(0)) * 100\n",
    "}\n",
    "val accuracyResultBuffer = scala.collection.mutable.Buffer.empty[Double]\n",
    "val iterator = cifar10.testBatches(trainBatchSize)\n",
    "while (iterator.hasNext) {\n",
    "    val Cifar10.Batch(testDatalabels, testDataBatch) = iterator.next()\n",
    "    val predictResult = Await.result(myNeuralNetwork(testDataBatch).predict.toScalaFuture, Duration.Inf)\n",
    "    val accuracyResult = getAccuracy(predictResult ,testDatalabels)\n",
    "    accuracyResultBuffer += accuracyResult\n",
    "}\n",
    "\n",
    "val accuracy = accuracyResultBuffer.sum / accuracyResultBuffer.length\n",
    "\n",
    "println(\"The accuracy is \" + accuracy + \"%\")"
   ]
  },
  {
   "cell_type": "code",
   "execution_count": null,
   "metadata": {
    "collapsed": true
   },
   "outputs": [],
   "source": [
    "trainer.poltLoss()"
   ]
  },
  {
   "cell_type": "markdown",
   "metadata": {},
   "source": [
    "## Summary\n",
    "\n",
    "We have learned the follows in this article:\n",
    "\n",
    "* Prepare and process CIFAR10 data\n",
    "* Write softmax classifier\n",
    "* Use the prediction image of the neural network written by softmax classifier to match with the probability of each category."
   ]
  }
 ],
 "metadata": {
  "kernelspec": {
   "display_name": "Scala",
   "language": "scala",
   "name": "scala"
  },
  "language_info": {
   "codemirror_mode": "text/x-scala",
   "file_extension": ".scala",
   "mimetype": "text/x-scala",
   "name": "scala211",
   "nbconvert_exporter": "script",
   "pygments_lexer": "scala",
   "version": "2.11.11"
  }
 },
 "nbformat": 4,
 "nbformat_minor": 2
}
